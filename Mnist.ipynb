{
  "nbformat": 4,
  "nbformat_minor": 0,
  "metadata": {
    "colab": {
      "provenance": [],
      "authorship_tag": "ABX9TyN5PmHrlcKw0BB6LNnaPEfF",
      "include_colab_link": true
    },
    "kernelspec": {
      "name": "python3",
      "display_name": "Python 3"
    },
    "language_info": {
      "name": "python"
    }
  },
  "cells": [
    {
      "cell_type": "markdown",
      "metadata": {
        "id": "view-in-github",
        "colab_type": "text"
      },
      "source": [
        "<a href=\"https://colab.research.google.com/github/MVBalashov/work-with-bro/blob/main/Mnist.ipynb\" target=\"_parent\"><img src=\"https://colab.research.google.com/assets/colab-badge.svg\" alt=\"Open In Colab\"/></a>"
      ]
    },
    {
      "cell_type": "code",
      "execution_count": 2,
      "metadata": {
        "colab": {
          "base_uri": "https://localhost:8080/"
        },
        "id": "vx3ba8AUtA5P",
        "outputId": "29d15e2c-5df7-4c07-9d91-4c1f96f94f1a"
      },
      "outputs": [
        {
          "output_type": "stream",
          "name": "stdout",
          "text": [
            "Downloading data from https://storage.googleapis.com/tensorflow/tf-keras-datasets/mnist.npz\n",
            "11490434/11490434 [==============================] - 0s 0us/step\n"
          ]
        }
      ],
      "source": [
        "import numpy as np\n",
        "import matplotlib.pyplot as plt\n",
        "from tensorflow.keras.datasets import mnist\n",
        "\n",
        "(x_train, y_train), (x_test, y_test) = mnist.load_data()\n",
        "\n",
        "# Нормализация\n",
        "x_train = x_train.astype('float32') / 255\n",
        "x_train = np.reshape(x_train, (x_train.shape[0], -1))\n",
        "y_train = np.eye(10)[y_train]\n",
        "\n",
        "# Инициализация весов и смещений\n",
        "weight_input_to_hidden = np.random.uniform(-0.5, 0.5, (20, 784))\n",
        "weight_hidden_to_output = np.random.uniform(-0.5, 0.5, (10, 20))\n",
        "\n",
        "bias_input_to_hidden = np.zeros((20, 1))\n",
        "bias_hidden_to_output = np.zeros((10, 1))"
      ]
    },
    {
      "cell_type": "code",
      "source": [
        "epochs = 5\n",
        "learning_rate = 0.01\n",
        "\n",
        "for epoch in range(epochs):\n",
        "    e_loss = 0\n",
        "    e_correct = 0\n",
        "\n",
        "    for image, label in zip(x_train, y_train):\n",
        "        image = np.reshape(image, (-1, 1))\n",
        "        label = np.reshape(label, (-1, 1))\n",
        "\n",
        "        #Forward pass\n",
        "        hidden_raw = bias_input_to_hidden + weight_input_to_hidden @ image\n",
        "        hidden = 1 / (1 + np.exp(-hidden_raw))\n",
        "                                                                                # Функция активации\n",
        "        output_raw = bias_hidden_to_output + weight_hidden_to_output @ hidden\n",
        "        output = 1 / (1 + np.exp(-output_raw))\n",
        "\n",
        "        # Счет потерь и точности\n",
        "        e_loss += np.sum((output - label) ** 2)\n",
        "        e_correct += int(np.argmax(output) == np.argmax(label))\n",
        "\n",
        "        # Backpropagation\n",
        "        delta_output = output - label\n",
        "        weight_hidden_to_output -= learning_rate * delta_output @ hidden.T\n",
        "        bias_hidden_to_output -= learning_rate * delta_output\n",
        "\n",
        "        delta_hidden = weight_hidden_to_output.T @ delta_output * (hidden * (1 - hidden))\n",
        "        weight_input_to_hidden -= learning_rate * delta_hidden @ image.T\n",
        "        bias_input_to_hidden -= learning_rate * delta_hidden\n",
        "\n",
        "    print(f'Loss: {e_loss/len(x_train)}, Accuracy: {e_correct/len(x_train)}')"
      ],
      "metadata": {
        "colab": {
          "base_uri": "https://localhost:8080/"
        },
        "id": "akdvw9t5tJgr",
        "outputId": "9ac00bbe-b4cd-40f8-e2be-bc8062387068"
      },
      "execution_count": null,
      "outputs": [
        {
          "output_type": "stream",
          "name": "stdout",
          "text": [
            "Loss: 0.23694847844646463, Accuracy: 0.8623166666666666\n",
            "Loss: 0.1278359125974417, Accuracy: 0.9227666666666666\n",
            "Loss: 0.11154280735682401, Accuracy: 0.93305\n",
            "Loss: 0.10225006159248655, Accuracy: 0.93945\n"
          ]
        }
      ]
    },
    {
      "cell_type": "code",
      "source": [
        "from google.colab import drive\n",
        "drive.mount('/content/drive')"
      ],
      "metadata": {
        "colab": {
          "base_uri": "https://localhost:8080/"
        },
        "id": "QB_UGNq4tnFr",
        "outputId": "f8fbc618-e430-4d6d-85a4-75918a408573"
      },
      "execution_count": null,
      "outputs": [
        {
          "output_type": "stream",
          "name": "stdout",
          "text": [
            "Mounted at /content/drive\n"
          ]
        }
      ]
    },
    {
      "cell_type": "code",
      "source": [
        "from PIL import Image\n",
        "\n",
        "def preprocess_image(image_path):\n",
        "    # импорт\n",
        "    image = Image.open(image_path).convert('L')\n",
        "\n",
        "    # 28x28 пикселей\n",
        "    image = image.resize((28, 28))\n",
        "\n",
        "    # изображения -> массив + нормализация\n",
        "    image = np.array(image).astype('float32') / 255.0\n",
        "\n",
        "    # Преобразование массива в вектор столбец\n",
        "    image = image.reshape(-1, 1)\n",
        "    return image\n",
        "\n",
        "\n",
        "image_path = '/content/drive/MyDrive/Image/5.jpeg'\n",
        "image = preprocess_image(image_path)\n",
        "\n",
        "# forward pass\n",
        "hidden_raw = bias_input_to_hidden + weight_input_to_hidden @ image\n",
        "hidden = 1 / (1 + np.exp(-hidden_raw))\n",
        "\n",
        "output_raw = bias_hidden_to_output + weight_hidden_to_output @ hidden\n",
        "output = 1 / (1 + np.exp(-output_raw))\n",
        "\n",
        "plt.imshow(image.reshape(28, 28), cmap='Greys')\n",
        "plt.title(f'Нейросеть предполагает, что это: {output.argmax()}')\n",
        "plt.show()"
      ],
      "metadata": {
        "colab": {
          "base_uri": "https://localhost:8080/",
          "height": 356
        },
        "id": "1l4U-_gxtzcP",
        "outputId": "6213ce45-dcb6-4090-f712-c95fc123ec7a"
      },
      "execution_count": 1,
      "outputs": [
        {
          "output_type": "error",
          "ename": "FileNotFoundError",
          "evalue": "[Errno 2] No such file or directory: '/content/drive/MyDrive/Image/5.jpeg'",
          "traceback": [
            "\u001b[0;31m---------------------------------------------------------------------------\u001b[0m",
            "\u001b[0;31mFileNotFoundError\u001b[0m                         Traceback (most recent call last)",
            "\u001b[0;32m<ipython-input-1-75c899769945>\u001b[0m in \u001b[0;36m<cell line: 19>\u001b[0;34m()\u001b[0m\n\u001b[1;32m     17\u001b[0m \u001b[0;34m\u001b[0m\u001b[0m\n\u001b[1;32m     18\u001b[0m \u001b[0mimage_path\u001b[0m \u001b[0;34m=\u001b[0m \u001b[0;34m'/content/drive/MyDrive/Image/5.jpeg'\u001b[0m\u001b[0;34m\u001b[0m\u001b[0;34m\u001b[0m\u001b[0m\n\u001b[0;32m---> 19\u001b[0;31m \u001b[0mimage\u001b[0m \u001b[0;34m=\u001b[0m \u001b[0mpreprocess_image\u001b[0m\u001b[0;34m(\u001b[0m\u001b[0mimage_path\u001b[0m\u001b[0;34m)\u001b[0m\u001b[0;34m\u001b[0m\u001b[0;34m\u001b[0m\u001b[0m\n\u001b[0m\u001b[1;32m     20\u001b[0m \u001b[0;34m\u001b[0m\u001b[0m\n\u001b[1;32m     21\u001b[0m \u001b[0;31m# forward pass\u001b[0m\u001b[0;34m\u001b[0m\u001b[0;34m\u001b[0m\u001b[0m\n",
            "\u001b[0;32m<ipython-input-1-75c899769945>\u001b[0m in \u001b[0;36mpreprocess_image\u001b[0;34m(image_path)\u001b[0m\n\u001b[1;32m      3\u001b[0m \u001b[0;32mdef\u001b[0m \u001b[0mpreprocess_image\u001b[0m\u001b[0;34m(\u001b[0m\u001b[0mimage_path\u001b[0m\u001b[0;34m)\u001b[0m\u001b[0;34m:\u001b[0m\u001b[0;34m\u001b[0m\u001b[0;34m\u001b[0m\u001b[0m\n\u001b[1;32m      4\u001b[0m     \u001b[0;31m# импорт\u001b[0m\u001b[0;34m\u001b[0m\u001b[0;34m\u001b[0m\u001b[0m\n\u001b[0;32m----> 5\u001b[0;31m     \u001b[0mimage\u001b[0m \u001b[0;34m=\u001b[0m \u001b[0mImage\u001b[0m\u001b[0;34m.\u001b[0m\u001b[0mopen\u001b[0m\u001b[0;34m(\u001b[0m\u001b[0mimage_path\u001b[0m\u001b[0;34m)\u001b[0m\u001b[0;34m.\u001b[0m\u001b[0mconvert\u001b[0m\u001b[0;34m(\u001b[0m\u001b[0;34m'L'\u001b[0m\u001b[0;34m)\u001b[0m\u001b[0;34m\u001b[0m\u001b[0;34m\u001b[0m\u001b[0m\n\u001b[0m\u001b[1;32m      6\u001b[0m \u001b[0;34m\u001b[0m\u001b[0m\n\u001b[1;32m      7\u001b[0m     \u001b[0;31m# 28x28 пикселей\u001b[0m\u001b[0;34m\u001b[0m\u001b[0;34m\u001b[0m\u001b[0m\n",
            "\u001b[0;32m/usr/local/lib/python3.10/dist-packages/PIL/Image.py\u001b[0m in \u001b[0;36mopen\u001b[0;34m(fp, mode, formats)\u001b[0m\n\u001b[1;32m   3225\u001b[0m \u001b[0;34m\u001b[0m\u001b[0m\n\u001b[1;32m   3226\u001b[0m     \u001b[0;32mif\u001b[0m \u001b[0mfilename\u001b[0m\u001b[0;34m:\u001b[0m\u001b[0;34m\u001b[0m\u001b[0;34m\u001b[0m\u001b[0m\n\u001b[0;32m-> 3227\u001b[0;31m         \u001b[0mfp\u001b[0m \u001b[0;34m=\u001b[0m \u001b[0mbuiltins\u001b[0m\u001b[0;34m.\u001b[0m\u001b[0mopen\u001b[0m\u001b[0;34m(\u001b[0m\u001b[0mfilename\u001b[0m\u001b[0;34m,\u001b[0m \u001b[0;34m\"rb\"\u001b[0m\u001b[0;34m)\u001b[0m\u001b[0;34m\u001b[0m\u001b[0;34m\u001b[0m\u001b[0m\n\u001b[0m\u001b[1;32m   3228\u001b[0m         \u001b[0mexclusive_fp\u001b[0m \u001b[0;34m=\u001b[0m \u001b[0;32mTrue\u001b[0m\u001b[0;34m\u001b[0m\u001b[0;34m\u001b[0m\u001b[0m\n\u001b[1;32m   3229\u001b[0m \u001b[0;34m\u001b[0m\u001b[0m\n",
            "\u001b[0;31mFileNotFoundError\u001b[0m: [Errno 2] No such file or directory: '/content/drive/MyDrive/Image/5.jpeg'"
          ]
        }
      ]
    }
  ]
}